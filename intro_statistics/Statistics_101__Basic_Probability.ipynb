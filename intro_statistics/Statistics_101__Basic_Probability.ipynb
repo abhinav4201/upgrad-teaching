{
  "cells": [
    {
      "cell_type": "markdown",
      "metadata": {
        "id": "view-in-github",
        "colab_type": "text"
      },
      "source": [
        "<a href=\"https://colab.research.google.com/github/tamojit-maiti/upgrad-teaching/blob/main/intro_to_statistics/Statistics_101_%7C_Basic_Probability.ipynb\" target=\"_parent\"><img src=\"https://colab.research.google.com/assets/colab-badge.svg\" alt=\"Open In Colab\"/></a>"
      ]
    },
    {
      "cell_type": "markdown",
      "metadata": {
        "id": "hZAH-QGLMhsU"
      },
      "source": [
        "### In a single toss of 2 fair (evenly-weighted) six-sided dice, find the probability that their sum will be at most 9."
      ]
    },
    {
      "cell_type": "code",
      "execution_count": null,
      "metadata": {
        "id": "CLctsf_BMhsY",
        "outputId": "e9e12ccb-8267-4b5e-c5b6-c3b2b3f23634"
      },
      "outputs": [
        {
          "name": "stdout",
          "output_type": "stream",
          "text": [
            "5/6\n"
          ]
        }
      ],
      "source": [
        "import math\n",
        "from fractions import Fraction\n",
        "\n",
        "dice_max = 6\n",
        "dice_min = 1\n",
        "dice_range = range(dice_min, dice_max + 1)\n",
        "count = 0\n",
        "for d1 in dice_range:\n",
        "    for d2 in dice_range:\n",
        "        if (d1 + d2) <= 9:\n",
        "            count += 1\n",
        "possibilities = dice_max**2\n",
        "print(Fraction(count, possibilities))"
      ]
    },
    {
      "cell_type": "markdown",
      "metadata": {
        "id": "jCcT-363MhsZ"
      },
      "source": [
        "### In a single toss of  2 fair (evenly-weighted) six-sided dice, find the probability that the values rolled by each die will be different and the two dice have a sum of 6."
      ]
    },
    {
      "cell_type": "code",
      "execution_count": null,
      "metadata": {
        "id": "r8ywbk45Mhsa",
        "outputId": "961ce017-384e-4e8b-9139-cedfd2c3e2af"
      },
      "outputs": [
        {
          "name": "stdout",
          "output_type": "stream",
          "text": [
            "range(1, 7)\n",
            "1/9\n"
          ]
        }
      ],
      "source": [
        "from fractions import Fraction\n",
        "\n",
        "dice_max = 6\n",
        "dice_min = 1\n",
        "dice_range = range(dice_min, dice_max+1)\n",
        "print(dice_range)\n",
        "count = 0\n",
        "for d1 in dice_range:\n",
        "    for d2 in dice_range:\n",
        "        if (d1 != d2) and (d1+d2 == 6):\n",
        "            count+=1\n",
        "possibilities = dice_max**2\n",
        "print(Fraction(count, possibilities))"
      ]
    }
  ],
  "metadata": {
    "kernelspec": {
      "display_name": "Python 3",
      "language": "python",
      "name": "python3"
    },
    "language_info": {
      "codemirror_mode": {
        "name": "ipython",
        "version": 3
      },
      "file_extension": ".py",
      "mimetype": "text/x-python",
      "name": "python",
      "nbconvert_exporter": "python",
      "pygments_lexer": "ipython3",
      "version": "3.6.8"
    },
    "colab": {
      "name": "Statistics 101 | Basic Probability",
      "provenance": [],
      "include_colab_link": true
    }
  },
  "nbformat": 4,
  "nbformat_minor": 0
}
