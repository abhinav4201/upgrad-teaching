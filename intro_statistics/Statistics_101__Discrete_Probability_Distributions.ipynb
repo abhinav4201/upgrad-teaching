{
  "cells": [
    {
      "cell_type": "markdown",
      "metadata": {
        "id": "view-in-github",
        "colab_type": "text"
      },
      "source": [
        "<a href=\"https://colab.research.google.com/github/tamojit-maiti/upgrad-teaching/blob/main/intro_to_statistics/Statistics_101_%7C_Discrete_Probability_Distributions.ipynb\" target=\"_parent\"><img src=\"https://colab.research.google.com/assets/colab-badge.svg\" alt=\"Open In Colab\"/></a>"
      ]
    },
    {
      "cell_type": "markdown",
      "metadata": {
        "id": "WaCUuuQjNWsE"
      },
      "source": [
        "## Bernoulli and Binomial Distributions"
      ]
    },
    {
      "cell_type": "markdown",
      "metadata": {
        "id": "4sVh-kHsNWsH"
      },
      "source": [
        "A Bernoulli Distribution is the probability distribution of a random variable which takes the value 1 with probability p and value 0 with probability 1 – p, i.e.\n",
        "\n",
        "$$P(X = 0) = 1 - p$$\n",
        "$$P(X = 1) = p$$\n",
        "\n"
      ]
    },
    {
      "cell_type": "markdown",
      "metadata": {
        "id": "c-3BWntTNWsI"
      },
      "source": [
        "## Example\n",
        "\n",
        "**We want to know, out of a random sample of 10 people, what is the probability of 3 of these 10 people being left handed?**\n",
        "\n",
        "* let's assume that the prob of left handed people is 10% or 0.1 and probability of right handed people if 90% or 0.9.\n",
        "* we have to add up all the ways we can arrange the 3 people being picked.\n",
        "\n",
        "There are 10! ways to arrange 10 people and there are 3! ways to arrange the 3 people that are picked and 7! ways to arrange the 7 people that aren’t picked."
      ]
    },
    {
      "cell_type": "code",
      "execution_count": null,
      "metadata": {
        "id": "sx_VUn4DNWsJ",
        "outputId": "c6f67659-f2ce-4259-d63e-0501d9105cb2"
      },
      "outputs": [
        {
          "data": {
            "text/plain": [
              "120.0"
            ]
          },
          "execution_count": 1,
          "metadata": {},
          "output_type": "execute_result"
        }
      ],
      "source": [
        "from math import factorial\n",
        "\n",
        "factorial(10) / (factorial(3) * factorial(7))"
      ]
    },
    {
      "cell_type": "code",
      "execution_count": null,
      "metadata": {
        "id": "7O-kgIgBNWsK",
        "outputId": "0eda2706-c632-4010-c651-5fdeecd0cd66"
      },
      "outputs": [
        {
          "data": {
            "text/plain": [
              "0.05739562800000007"
            ]
          },
          "execution_count": 2,
          "metadata": {},
          "output_type": "execute_result"
        }
      ],
      "source": [
        "# parameters are k, n and p\n",
        "from scipy.stats import binom\n",
        "\n",
        "binom.pmf(3, 10, 0.1)"
      ]
    },
    {
      "cell_type": "markdown",
      "metadata": {
        "id": "46Y7f7HWNWsK"
      },
      "source": [
        "#### We can use this function to calculate what the probability of 3 or fewer people being left-handed from a selection of 10 people.\n"
      ]
    },
    {
      "cell_type": "code",
      "execution_count": null,
      "metadata": {
        "id": "ArheXamFNWsL",
        "outputId": "14fc22e4-fa91-4afb-bef5-d5eeb98eb2c1"
      },
      "outputs": [
        {
          "data": {
            "text/plain": [
              "0.9872048016000006"
            ]
          },
          "execution_count": 3,
          "metadata": {},
          "output_type": "execute_result"
        }
      ],
      "source": [
        "sum([binom.pmf(x, 10, 0.1) for x in range(4)])"
      ]
    },
    {
      "cell_type": "markdown",
      "metadata": {
        "id": "W6j_83FLNWsM"
      },
      "source": [
        "\n",
        "**we could plot our probability results for each value up to all 10 people being left-handed:**"
      ]
    },
    {
      "cell_type": "code",
      "execution_count": null,
      "metadata": {
        "id": "OWOrUbhtNWsM",
        "outputId": "0165320f-10a8-4145-9a4a-976f8129f9fa"
      },
      "outputs": [
        {
          "data": {
            "image/png": "[encoded data removed]",
            "text/plain": [
              "<Figure size 432x288 with 1 Axes>"
            ]
          },
          "metadata": {
            "needs_background": "light"
          },
          "output_type": "display_data"
        }
      ],
      "source": [
        "import matplotlib.pyplot as plt\n",
        "\n",
        "plt.bar(range(11), [binom.pmf(x, 10, 0.1) for x in range(11)])\n",
        "plt.xlabel('k')\n",
        "plt.ylabel('P(X=k)')\n",
        "plt.title('Binomial PMF')\n",
        "plt.show()"
      ]
    },
    {
      "cell_type": "markdown",
      "metadata": {
        "id": "i6DWGEdHNWsM"
      },
      "source": [
        "We can see there is almost negligible chance of getting more than 6 left-handed people in a random group of 10 people"
      ]
    },
    {
      "cell_type": "markdown",
      "metadata": {
        "id": "yuRmOsYsNWsN"
      },
      "source": [
        "## Roulette\n"
      ]
    },
    {
      "cell_type": "code",
      "execution_count": null,
      "metadata": {
        "id": "dqbLzp5CNWsN",
        "outputId": "01ca0894-9103-467c-9c7e-fbe76ec34b6d"
      },
      "outputs": [
        {
          "data": {
            "text/plain": [
              "0.31412504396776203"
            ]
          },
          "execution_count": 5,
          "metadata": {},
          "output_type": "execute_result"
        }
      ],
      "source": [
        "p = 18 / 38\n",
        "sum([binom.pmf(x, 10, p) for x in range(6, 11)])"
      ]
    },
    {
      "cell_type": "markdown",
      "metadata": {
        "id": "G4-Kjbr1NWsN"
      },
      "source": [
        "## Poisson Distribution"
      ]
    },
    {
      "cell_type": "markdown",
      "metadata": {
        "id": "vMEUaR8yNWsO"
      },
      "source": [
        "A Poisson distribution is a limiting version of the binomial distribution, where n becomes large and np approaches some value λ, which is the mean value.\n",
        "\n",
        "The Poisson distribution can be used for the number of events in other specified intervals such as distance, area or volume. Examples that may follow a Poisson include the number of phone calls received by a call center per hour and the number of decay events per second from a radioactive source.\n",
        "\n",
        "It is calculated as:\n",
        "\n",
        "$$ P(X = x) = e^{-x} \\frac{\\lambda^x} {x!}$$"
      ]
    },
    {
      "cell_type": "markdown",
      "metadata": {
        "id": "G-Qn3JBLNWsO"
      },
      "source": [
        "**The average number of goals in a World Cup football match is 2.5.**\n",
        "\n",
        "* We would like to know the probability of 4 goals in a match."
      ]
    },
    {
      "cell_type": "code",
      "execution_count": null,
      "metadata": {
        "id": "8_IRsi16NWsO"
      },
      "outputs": [],
      "source": [
        ""
      ]
    }
  ],
  "metadata": {
    "kernelspec": {
      "display_name": "Python 3",
      "language": "python",
      "name": "python3"
    },
    "language_info": {
      "codemirror_mode": {
        "name": "ipython",
        "version": 3
      },
      "file_extension": ".py",
      "mimetype": "text/x-python",
      "name": "python",
      "nbconvert_exporter": "python",
      "pygments_lexer": "ipython3",
      "version": "3.6.8"
    },
    "colab": {
      "name": "Statistics 101 | Discrete Probability Distributions",
      "provenance": [],
      "include_colab_link": true
    }
  },
  "nbformat": 4,
  "nbformat_minor": 0
}
